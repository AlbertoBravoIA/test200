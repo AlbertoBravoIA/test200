{
 "cells": [
  {
   "cell_type": "code",
   "execution_count": null,
   "metadata": {},
   "outputs": [],
   "source": [
    "print(\"Hola mundo\")\n",
    "\n",
    "# Esto es una variación para ver que todo funciona correctamente implementada por AlbertoBravo\n",
    "print(\"Hola mundo 2\")"
   ]
  }
 ],
 "metadata": {
  "language_info": {
   "name": "python"
  }
 },
 "nbformat": 4,
 "nbformat_minor": 2
}
